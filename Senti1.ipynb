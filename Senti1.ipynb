{
  "cells": [
    {
      "cell_type": "markdown",
      "metadata": {
        "id": "view-in-github",
        "colab_type": "text"
      },
      "source": [
        "<a href=\"https://colab.research.google.com/github/Yeyen09/youtube-comment-sentimental-analysis/blob/main/Senti1.ipynb\" target=\"_parent\"><img src=\"https://colab.research.google.com/assets/colab-badge.svg\" alt=\"Open In Colab\"/></a>"
      ]
    },
    {
      "cell_type": "code",
      "execution_count": null,
      "id": "027f3366",
      "metadata": {
        "lines_to_next_cell": 1,
        "id": "027f3366"
      },
      "outputs": [],
      "source": [
        "#Mengimpor pustaka yang diperlukan\n",
        "import csv #Untuk membaca dan menulis file CSV\n",
        "import re #untuk regular expressions\n",
        "import pandas as pd #Untuk manipulasi dan analisis data\n",
        "import nltk # Natural Language Toolkit untuk pemrosesan teks\n",
        "nltk.download('vader_lexicon') #Download VADER lexicon untuk analisis sentimen\n",
        "from nltk.sentiment.vader import SentimentIntensityAnalyzer #Sentiment analysis tool\n",
        "import plotly.express as px #Untuk membuat plot interaktif\n",
        "import plotly.graph_objects as go #Untuk membuat plot terperinci\n",
        "from colorama import Fore, Style #Untuk output berwarna di terminal\n",
        "from typing import Dict #Untuk mengetik kamus petunjuk\n",
        "import streamlit as st #Untuk membuat aplikasi web"
      ]
    },
    {
      "cell_type": "code",
      "execution_count": 8,
      "id": "5d7ea644",
      "metadata": {
        "lines_to_next_cell": 1,
        "id": "5d7ea644"
      },
      "outputs": [],
      "source": [
        "#Berfungsi untuk mengekstrak ID video dari tautan YouTube\n",
        "def extract_video_id(youtube_link):\n",
        "  #Ekspresi reguler untuk mencocokkan ID video YouTube\n",
        "    video_id_regex = r\"^(?:https?:\\/\\/)?(?:www\\.)?(?:youtube\\.com\\/watch\\?v=|youtu.be\\/)([a-zA-Z0-9_-]{11})\"\n",
        "    match = re.search(video_id_regex, youtube_link) #Cari pola dalam tautan tersebut\n",
        "    if match:\n",
        "        video_id = match.group(1) #Mengekstrak ID video jika polanya cocok\n",
        "        return video_id\n",
        "    else:\n",
        "        return None #mengembalikan none jika tidak ada kecocokan yang ditemukan"
      ]
    },
    {
      "cell_type": "code",
      "execution_count": null,
      "id": "e7ccaeac",
      "metadata": {
        "lines_to_next_cell": 1,
        "id": "e7ccaeac"
      },
      "outputs": [],
      "source": [
        "#Berfungsi untuk menganalisis sentimen dari komentar dalam file CSV\n",
        "def analyze_sentiment(csv_file):\n",
        "    #Inisialisasi analisa sentimen\n",
        "    sid = SentimentIntensityAnalyzer()\n",
        "\n",
        "    #Baca di komentar YouTube dari file CSV\n",
        "    comments = []\n",
        "    with open(csv_file, 'r', encoding='utf-8-sig') as csvfile:\n",
        "        reader = csv.DictReader(csvfile)\n",
        "        for row in reader:\n",
        "            comments.append(row['Comment']) #Menambahkan setiap komentar ke dalam daftar\n",
        "\n",
        "    #Menghitung jumlah komentar netral, positif, dan negatif\n",
        "    num_neutral = 0\n",
        "    num_positive = 0\n",
        "    num_negative = 0\n",
        "    for comment in comments:\n",
        "        sentiment_scores = sid.polarity_scores(comment) #Dapatkan nilai sentimen untuk komentar\n",
        "        if sentiment_scores['compound'] == 0.0:\n",
        "            num_neutral += 1 #Increment neutral count\n",
        "        elif sentiment_scores['compound'] > 0.0:\n",
        "            num_positive += 1 #Increment positive count\n",
        "        else:\n",
        "            num_negative += 1 #Increment negative count\n",
        "\n",
        "    #Mengembalikan hasil sebagai kamus\n",
        "    results = {'num_neutral': num_neutral, 'num_positive': num_positive, 'num_negative': num_negative}\n",
        "    return results"
      ]
    },
    {
      "cell_type": "code",
      "execution_count": null,
      "id": "75120774",
      "metadata": {
        "lines_to_next_cell": 1,
        "id": "75120774"
      },
      "outputs": [],
      "source": [
        "def bar_chart(csv_file: str) -> None:\n",
        "    #Memanggil fungsi analyze_sentiment untuk mendapatkan hasil analisis sentimen\n",
        "    results: Dict[str, int] = analyze_sentiment(csv_file)\n",
        "\n",
        "    #Mendapatkan jumlah komentar untuk setiap kategori sentimen\n",
        "    num_neutral = results['num_neutral']\n",
        "    num_positive = results['num_positive']\n",
        "    num_negative = results['num_negative']\n",
        "\n",
        "    #Membuat DataFrame Pandas dengan hasil analisis sentimen\n",
        "    df = pd.DataFrame({\n",
        "        'Sentiment': ['Positive', 'Negative', 'Neutral'],\n",
        "        'Number of Comments': [num_positive, num_negative, num_neutral]\n",
        "    })\n",
        "\n",
        "    #Membuat diagram batang menggunakan Plotly Express\n",
        "    fig = px.bar(df, x='Sentiment', #Sumbu x adalah kategori sentimen\n",
        "                 y='Number of Comments', #Sumbu y adalah jumlah komentar\n",
        "                 color='Sentiment', #Pewarnaan berdasarkan kategori sentimen\n",
        "                 color_discrete_sequence=['#87CEFA', '#FFA07A', '#D3D3D3'],#Warna khusus untuk setiap kategori\n",
        "                 title='Sentiment Analysis Results') #Judul diagram\n",
        "    fig.update_layout(title_font=dict(size=20)) #Mengatur ukuran font judul\n",
        "\n",
        "\n",
        "    #Menampilkan diagram di Streamlit\n",
        "    st.plotly_chart(fig, use_container_width=True)"
      ]
    },
    {
      "cell_type": "code",
      "execution_count": null,
      "id": "2be7024f",
      "metadata": {
        "id": "2be7024f"
      },
      "outputs": [],
      "source": [
        "def plot_sentiment(csv_file: str) -> None:\n",
        "    #Memanggil fungsi analyze_sentiment untuk mendapatkan hasil analisis sentimen\n",
        "    results: Dict[str, int] = analyze_sentiment(csv_file)\n",
        "\n",
        "    #Mendapatkan jumlah komentar untuk setiap kategori sentimen\n",
        "    num_neutral = results['num_neutral']\n",
        "    num_positive = results['num_positive']\n",
        "    num_negative = results['num_negative']\n",
        "\n",
        "    #Mempersiapkan data untuk diagram pie (pie chart)\n",
        "    labels = ['Neutral', 'Positive', 'Negative'] #Label untuk setiap kategori sentimen\n",
        "    values = [num_neutral, num_positive, num_negative] #Nilai jumlah komentar untuk setiap kategori\n",
        "    colors = ['yellow', 'green', 'red'] #Warna yang digunakan untuk setiap kategori\n",
        "    #Membuat diagram pie menggunakan Plotly\n",
        "    fig = go.Figure(data=[go.Pie(labels=labels, values=values, textinfo='label+percent',\n",
        "                                 marker=dict(colors=colors))]) #Membuat diagram pie dengan label, nilai, dan warna\n",
        "    #Mengatur tata letak diagram\n",
        "    fig.update_layout(title={'text': 'Sentiment Analysis Results', #Judul diagram\n",
        "                             'font': {'size': 20, 'family': 'Arial', 'color': 'grey'}, #Pengaturan font judul\n",
        "                              'x': 0.5, 'y': 0.9}, #Posisi judul (di tengah atas)\n",
        "                      font=dict(size=14)) #Pengaturan ukuran font umum\n",
        "    st.plotly_chart(fig) #Menampilkan diagram di Streamlit"
      ]
    },
    {
      "cell_type": "code",
      "execution_count": null,
      "id": "b9a8905f",
      "metadata": {
        "id": "b9a8905f"
      },
      "outputs": [],
      "source": [
        ""
      ]
    },
    {
      "cell_type": "code",
      "execution_count": null,
      "id": "1e78b31c",
      "metadata": {
        "id": "1e78b31c"
      },
      "outputs": [],
      "source": [
        "#Berfungsi untuk membuat scatter plot dari file CSV\n",
        "def create_scatterplot(csv_file: str, x_column: str, y_column: str) -> None:\n",
        "    #Memuat data dari CSV\n",
        "    data = pd.read_csv(csv_file)\n",
        "\n",
        "    #Membuat scatter plot menggunakan Plotly\n",
        "    fig = px.scatter(data, x=x_column, y=y_column, color='Category')\n",
        "\n",
        "    #Menyesuaikan tata letak\n",
        "    fig.update_layout(\n",
        "        title='Scatter Plot',\n",
        "        xaxis_title=x_column,\n",
        "        yaxis_title=y_column,\n",
        "        font=dict(size=18)\n",
        "    )\n",
        "\n",
        "    #Menampilkan plot dalam Streamlit\n",
        "    st.plotly_chart(fig, use_container_width=True)"
      ]
    },
    {
      "cell_type": "code",
      "execution_count": null,
      "id": "1ebdb732",
      "metadata": {
        "id": "1ebdb732"
      },
      "outputs": [],
      "source": [
        "def print_sentiment(csv_file: str) -> None:\n",
        "    #Memanggil fungsi analyze_sentiment untuk mendapatkan hasil analisis sentimen\n",
        "    results: Dict[str, int] = analyze_sentiment(csv_file)\n",
        "\n",
        "    #Mendapatkan jumlah komentar untuk setiap kategori sentimen\n",
        "    num_neutral = results['num_neutral']\n",
        "    num_positive = results['num_positive']\n",
        "    num_negative = results['num_negative']\n",
        "\n",
        "\n",
        "    #Menentukan sentimen keseluruhan berdasarkan perbandingan jumlah komentar positif dan negatif\n",
        "    if num_positive > num_negative:\n",
        "        overall_sentiment = 'POSITIVE' #Jika komentar positif lebih banyak, maka sentimen keseluruhan adalah positif\n",
        "        color = Fore.GREEN #Warna hijau untuk sentimen positif\n",
        "    elif num_negative > num_positive:\n",
        "        overall_sentiment = 'NEGATIVE' #Jika komentar negatif lebih banyak, maka sentimen keseluruhan adalah negatif\n",
        "        color = Fore.RED #Warna merah untuk sentimen negatif\n",
        "    else:\n",
        "        overall_sentiment = 'NEUTRAL' #Jika jumlah komentar positif dan negatif seimbang, maka sentimen keseluruhan adalah netral\n",
        "        color = Fore.YELLOW #Warna kuning untuk sentimen netra\n",
        "\n",
        "    #Mencetak sentimen keseluruhan dengan warna yang sesuai\n",
        "    print('\\n'+ Style.BRIGHT+ color + overall_sentiment.upper().center(50, ' ') + Style.RESET_ALL)\n",
        "    #Mencetak sentimen dalam huruf besar (uppercase) dan menempatkannya di tengah dengan padding\n",
        "    #Menggunakan warna yang telah ditentukan dan mengatur gaya cetak menjadi terang (bright)\n",
        "    #Mengembalikan gaya cetak ke pengaturan normal setelah mencetak"
      ]
    }
  ],
  "metadata": {
    "jupytext": {
      "cell_metadata_filter": "-all",
      "main_language": "python",
      "notebook_metadata_filter": "-all"
    },
    "colab": {
      "provenance": [],
      "include_colab_link": true
    },
    "language_info": {
      "name": "python"
    },
    "kernelspec": {
      "name": "python3",
      "display_name": "Python 3"
    }
  },
  "nbformat": 4,
  "nbformat_minor": 5
}