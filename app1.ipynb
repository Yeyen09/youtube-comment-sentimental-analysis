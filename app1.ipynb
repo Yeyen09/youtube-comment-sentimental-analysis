{
  "cells": [
    {
      "cell_type": "markdown",
      "metadata": {
        "id": "view-in-github",
        "colab_type": "text"
      },
      "source": [
        "<a href=\"https://colab.research.google.com/github/Yeyen09/youtube-comment-sentimental-analysis/blob/main/app1.ipynb\" target=\"_parent\"><img src=\"https://colab.research.google.com/assets/colab-badge.svg\" alt=\"Open In Colab\"/></a>"
      ]
    },
    {
      "cell_type": "code",
      "source": [
        "pip install colorama"
      ],
      "metadata": {
        "colab": {
          "base_uri": "https://localhost:8080/"
        },
        "collapsed": true,
        "id": "KqgpXw8vP-5n",
        "outputId": "4fea935f-7f38-47ed-f6c6-f346926462c8"
      },
      "id": "KqgpXw8vP-5n",
      "execution_count": null,
      "outputs": [
        {
          "output_type": "stream",
          "name": "stdout",
          "text": [
            "Collecting colorama\n",
            "  Downloading colorama-0.4.6-py2.py3-none-any.whl.metadata (17 kB)\n",
            "Downloading colorama-0.4.6-py2.py3-none-any.whl (25 kB)\n",
            "Installing collected packages: colorama\n",
            "Successfully installed colorama-0.4.6\n"
          ]
        }
      ]
    },
    {
      "cell_type": "markdown",
      "source": [],
      "metadata": {
        "id": "yNWzA1uaTJYJ"
      },
      "id": "yNWzA1uaTJYJ"
    },
    {
      "cell_type": "code",
      "source": [
        "pip install streamlit"
      ],
      "metadata": {
        "colab": {
          "base_uri": "https://localhost:8080/"
        },
        "collapsed": true,
        "id": "-sC04hb9QD81",
        "outputId": "db26b87e-0503-4436-8824-64d603c636fe"
      },
      "id": "-sC04hb9QD81",
      "execution_count": null,
      "outputs": [
        {
          "output_type": "stream",
          "name": "stdout",
          "text": [
            "Collecting streamlit\n",
            "  Downloading streamlit-1.37.1-py2.py3-none-any.whl.metadata (8.5 kB)\n",
            "Requirement already satisfied: altair<6,>=4.0 in /usr/local/lib/python3.10/dist-packages (from streamlit) (4.2.2)\n",
            "Requirement already satisfied: blinker<2,>=1.0.0 in /usr/lib/python3/dist-packages (from streamlit) (1.4)\n",
            "Requirement already satisfied: cachetools<6,>=4.0 in /usr/local/lib/python3.10/dist-packages (from streamlit) (5.4.0)\n",
            "Requirement already satisfied: click<9,>=7.0 in /usr/local/lib/python3.10/dist-packages (from streamlit) (8.1.7)\n",
            "Requirement already satisfied: numpy<3,>=1.20 in /usr/local/lib/python3.10/dist-packages (from streamlit) (1.26.4)\n",
            "Requirement already satisfied: packaging<25,>=20 in /usr/local/lib/python3.10/dist-packages (from streamlit) (24.1)\n",
            "Requirement already satisfied: pandas<3,>=1.3.0 in /usr/local/lib/python3.10/dist-packages (from streamlit) (2.1.4)\n",
            "Requirement already satisfied: pillow<11,>=7.1.0 in /usr/local/lib/python3.10/dist-packages (from streamlit) (9.4.0)\n",
            "Requirement already satisfied: protobuf<6,>=3.20 in /usr/local/lib/python3.10/dist-packages (from streamlit) (3.20.3)\n",
            "Requirement already satisfied: pyarrow>=7.0 in /usr/local/lib/python3.10/dist-packages (from streamlit) (14.0.2)\n",
            "Requirement already satisfied: requests<3,>=2.27 in /usr/local/lib/python3.10/dist-packages (from streamlit) (2.32.3)\n",
            "Requirement already satisfied: rich<14,>=10.14.0 in /usr/local/lib/python3.10/dist-packages (from streamlit) (13.7.1)\n",
            "Collecting tenacity<9,>=8.1.0 (from streamlit)\n",
            "  Downloading tenacity-8.5.0-py3-none-any.whl.metadata (1.2 kB)\n",
            "Requirement already satisfied: toml<2,>=0.10.1 in /usr/local/lib/python3.10/dist-packages (from streamlit) (0.10.2)\n",
            "Requirement already satisfied: typing-extensions<5,>=4.3.0 in /usr/local/lib/python3.10/dist-packages (from streamlit) (4.12.2)\n",
            "Collecting gitpython!=3.1.19,<4,>=3.0.7 (from streamlit)\n",
            "  Downloading GitPython-3.1.43-py3-none-any.whl.metadata (13 kB)\n",
            "Collecting pydeck<1,>=0.8.0b4 (from streamlit)\n",
            "  Downloading pydeck-0.9.1-py2.py3-none-any.whl.metadata (4.1 kB)\n",
            "Requirement already satisfied: tornado<7,>=6.0.3 in /usr/local/lib/python3.10/dist-packages (from streamlit) (6.3.3)\n",
            "Collecting watchdog<5,>=2.1.5 (from streamlit)\n",
            "  Downloading watchdog-4.0.1-py3-none-manylinux2014_x86_64.whl.metadata (37 kB)\n",
            "Requirement already satisfied: entrypoints in /usr/local/lib/python3.10/dist-packages (from altair<6,>=4.0->streamlit) (0.4)\n",
            "Requirement already satisfied: jinja2 in /usr/local/lib/python3.10/dist-packages (from altair<6,>=4.0->streamlit) (3.1.4)\n",
            "Requirement already satisfied: jsonschema>=3.0 in /usr/local/lib/python3.10/dist-packages (from altair<6,>=4.0->streamlit) (4.23.0)\n",
            "Requirement already satisfied: toolz in /usr/local/lib/python3.10/dist-packages (from altair<6,>=4.0->streamlit) (0.12.1)\n",
            "Collecting gitdb<5,>=4.0.1 (from gitpython!=3.1.19,<4,>=3.0.7->streamlit)\n",
            "  Downloading gitdb-4.0.11-py3-none-any.whl.metadata (1.2 kB)\n",
            "Requirement already satisfied: python-dateutil>=2.8.2 in /usr/local/lib/python3.10/dist-packages (from pandas<3,>=1.3.0->streamlit) (2.8.2)\n",
            "Requirement already satisfied: pytz>=2020.1 in /usr/local/lib/python3.10/dist-packages (from pandas<3,>=1.3.0->streamlit) (2024.1)\n",
            "Requirement already satisfied: tzdata>=2022.1 in /usr/local/lib/python3.10/dist-packages (from pandas<3,>=1.3.0->streamlit) (2024.1)\n",
            "Requirement already satisfied: charset-normalizer<4,>=2 in /usr/local/lib/python3.10/dist-packages (from requests<3,>=2.27->streamlit) (3.3.2)\n",
            "Requirement already satisfied: idna<4,>=2.5 in /usr/local/lib/python3.10/dist-packages (from requests<3,>=2.27->streamlit) (3.7)\n",
            "Requirement already satisfied: urllib3<3,>=1.21.1 in /usr/local/lib/python3.10/dist-packages (from requests<3,>=2.27->streamlit) (2.0.7)\n",
            "Requirement already satisfied: certifi>=2017.4.17 in /usr/local/lib/python3.10/dist-packages (from requests<3,>=2.27->streamlit) (2024.7.4)\n",
            "Requirement already satisfied: markdown-it-py>=2.2.0 in /usr/local/lib/python3.10/dist-packages (from rich<14,>=10.14.0->streamlit) (3.0.0)\n",
            "Requirement already satisfied: pygments<3.0.0,>=2.13.0 in /usr/local/lib/python3.10/dist-packages (from rich<14,>=10.14.0->streamlit) (2.16.1)\n",
            "Collecting smmap<6,>=3.0.1 (from gitdb<5,>=4.0.1->gitpython!=3.1.19,<4,>=3.0.7->streamlit)\n",
            "  Downloading smmap-5.0.1-py3-none-any.whl.metadata (4.3 kB)\n",
            "Requirement already satisfied: MarkupSafe>=2.0 in /usr/local/lib/python3.10/dist-packages (from jinja2->altair<6,>=4.0->streamlit) (2.1.5)\n",
            "Requirement already satisfied: attrs>=22.2.0 in /usr/local/lib/python3.10/dist-packages (from jsonschema>=3.0->altair<6,>=4.0->streamlit) (24.1.0)\n",
            "Requirement already satisfied: jsonschema-specifications>=2023.03.6 in /usr/local/lib/python3.10/dist-packages (from jsonschema>=3.0->altair<6,>=4.0->streamlit) (2023.12.1)\n",
            "Requirement already satisfied: referencing>=0.28.4 in /usr/local/lib/python3.10/dist-packages (from jsonschema>=3.0->altair<6,>=4.0->streamlit) (0.35.1)\n",
            "Requirement already satisfied: rpds-py>=0.7.1 in /usr/local/lib/python3.10/dist-packages (from jsonschema>=3.0->altair<6,>=4.0->streamlit) (0.19.1)\n",
            "Requirement already satisfied: mdurl~=0.1 in /usr/local/lib/python3.10/dist-packages (from markdown-it-py>=2.2.0->rich<14,>=10.14.0->streamlit) (0.1.2)\n",
            "Requirement already satisfied: six>=1.5 in /usr/local/lib/python3.10/dist-packages (from python-dateutil>=2.8.2->pandas<3,>=1.3.0->streamlit) (1.16.0)\n",
            "Downloading streamlit-1.37.1-py2.py3-none-any.whl (8.7 MB)\n",
            "\u001b[2K   \u001b[90m━━━━━━━━━━━━━━━━━━━━━━━━━━━━━━━━━━━━━━━━\u001b[0m \u001b[32m8.7/8.7 MB\u001b[0m \u001b[31m46.2 MB/s\u001b[0m eta \u001b[36m0:00:00\u001b[0m\n",
            "\u001b[?25hDownloading GitPython-3.1.43-py3-none-any.whl (207 kB)\n",
            "\u001b[2K   \u001b[90m━━━━━━━━━━━━━━━━━━━━━━━━━━━━━━━━━━━━━━━━\u001b[0m \u001b[32m207.3/207.3 kB\u001b[0m \u001b[31m12.7 MB/s\u001b[0m eta \u001b[36m0:00:00\u001b[0m\n",
            "\u001b[?25hDownloading pydeck-0.9.1-py2.py3-none-any.whl (6.9 MB)\n",
            "\u001b[2K   \u001b[90m━━━━━━━━━━━━━━━━━━━━━━━━━━━━━━━━━━━━━━━━\u001b[0m \u001b[32m6.9/6.9 MB\u001b[0m \u001b[31m61.4 MB/s\u001b[0m eta \u001b[36m0:00:00\u001b[0m\n",
            "\u001b[?25hDownloading tenacity-8.5.0-py3-none-any.whl (28 kB)\n",
            "Downloading watchdog-4.0.1-py3-none-manylinux2014_x86_64.whl (83 kB)\n",
            "\u001b[2K   \u001b[90m━━━━━━━━━━━━━━━━━━━━━━━━━━━━━━━━━━━━━━━━\u001b[0m \u001b[32m83.0/83.0 kB\u001b[0m \u001b[31m6.4 MB/s\u001b[0m eta \u001b[36m0:00:00\u001b[0m\n",
            "\u001b[?25hDownloading gitdb-4.0.11-py3-none-any.whl (62 kB)\n",
            "\u001b[2K   \u001b[90m━━━━━━━━━━━━━━━━━━━━━━━━━━━━━━━━━━━━━━━━\u001b[0m \u001b[32m62.7/62.7 kB\u001b[0m \u001b[31m3.8 MB/s\u001b[0m eta \u001b[36m0:00:00\u001b[0m\n",
            "\u001b[?25hDownloading smmap-5.0.1-py3-none-any.whl (24 kB)\n",
            "Installing collected packages: watchdog, tenacity, smmap, pydeck, gitdb, gitpython, streamlit\n",
            "  Attempting uninstall: tenacity\n",
            "    Found existing installation: tenacity 9.0.0\n",
            "    Uninstalling tenacity-9.0.0:\n",
            "      Successfully uninstalled tenacity-9.0.0\n",
            "Successfully installed gitdb-4.0.11 gitpython-3.1.43 pydeck-0.9.1 smmap-5.0.1 streamlit-1.37.1 tenacity-8.5.0 watchdog-4.0.1\n"
          ]
        }
      ]
    },
    {
      "cell_type": "code",
      "execution_count": 31,
      "id": "c1523aae",
      "metadata": {
        "colab": {
          "base_uri": "https://localhost:8080/",
          "height": 428
        },
        "id": "c1523aae",
        "outputId": "1fef180d-1599-416b-8a6d-23a99b424580",
        "collapsed": true
      },
      "outputs": [
        {
          "output_type": "error",
          "ename": "FileNotFoundError",
          "evalue": "No secrets files found. Valid paths for a secrets.toml file are: /root/.streamlit/secrets.toml, /content/.streamlit/secrets.toml",
          "traceback": [
            "\u001b[0;31m---------------------------------------------------------------------------\u001b[0m",
            "\u001b[0;31mFileNotFoundError\u001b[0m                         Traceback (most recent call last)",
            "\u001b[0;32m<ipython-input-31-95c51c010671>\u001b[0m in \u001b[0;36m<cell line: 4>\u001b[0;34m()\u001b[0m\n\u001b[1;32m      2\u001b[0m \u001b[0;32mimport\u001b[0m \u001b[0mos\u001b[0m\u001b[0;34m\u001b[0m\u001b[0;34m\u001b[0m\u001b[0m\n\u001b[1;32m      3\u001b[0m \u001b[0;32mfrom\u001b[0m \u001b[0mSenti\u001b[0m \u001b[0;32mimport\u001b[0m \u001b[0mextract_video_id\u001b[0m\u001b[0;34m,\u001b[0m\u001b[0manalyze_sentiment\u001b[0m\u001b[0;34m,\u001b[0m\u001b[0mbar_chart\u001b[0m\u001b[0;34m,\u001b[0m\u001b[0mplot_sentiment\u001b[0m\u001b[0;34m\u001b[0m\u001b[0;34m\u001b[0m\u001b[0m\n\u001b[0;32m----> 4\u001b[0;31m \u001b[0;32mfrom\u001b[0m \u001b[0mYoutubeCommentScrapper\u001b[0m \u001b[0;32mimport\u001b[0m \u001b[0msave_video_comments_to_csv\u001b[0m\u001b[0;34m,\u001b[0m\u001b[0mget_channel_info\u001b[0m\u001b[0;34m,\u001b[0m\u001b[0myoutube\u001b[0m\u001b[0;34m,\u001b[0m\u001b[0mget_channel_id\u001b[0m\u001b[0;34m,\u001b[0m\u001b[0mget_video_stats\u001b[0m\u001b[0;34m\u001b[0m\u001b[0;34m\u001b[0m\u001b[0m\n\u001b[0m",
            "\u001b[0;32m/content/YoutubeCommentScrapper.py\u001b[0m in \u001b[0;36m<module>\u001b[0;34m\u001b[0m\n\u001b[1;32m     10\u001b[0m \u001b[0;34m\u001b[0m\u001b[0m\n\u001b[1;32m     11\u001b[0m \u001b[0;31m# Replace with your own API key\u001b[0m\u001b[0;34m\u001b[0m\u001b[0;34m\u001b[0m\u001b[0m\n\u001b[0;32m---> 12\u001b[0;31m \u001b[0mDEVELOPER_KEY\u001b[0m \u001b[0;34m=\u001b[0m \u001b[0mst\u001b[0m\u001b[0;34m.\u001b[0m\u001b[0msecrets\u001b[0m\u001b[0;34m[\u001b[0m\u001b[0;34m\"API_KEY\"\u001b[0m\u001b[0;34m]\u001b[0m\u001b[0;34m\u001b[0m\u001b[0;34m\u001b[0m\u001b[0m\n\u001b[0m\u001b[1;32m     13\u001b[0m \u001b[0mYOUTUBE_API_SERVICE_NAME\u001b[0m \u001b[0;34m=\u001b[0m \u001b[0;34m'youtube'\u001b[0m\u001b[0;34m\u001b[0m\u001b[0;34m\u001b[0m\u001b[0m\n\u001b[1;32m     14\u001b[0m \u001b[0mYOUTUBE_API_VERSION\u001b[0m \u001b[0;34m=\u001b[0m \u001b[0;34m'v3'\u001b[0m\u001b[0;34m\u001b[0m\u001b[0;34m\u001b[0m\u001b[0m\n",
            "\u001b[0;32m/usr/local/lib/python3.10/dist-packages/streamlit/runtime/secrets.py\u001b[0m in \u001b[0;36m__getitem__\u001b[0;34m(self, key)\u001b[0m\n\u001b[1;32m    315\u001b[0m         \"\"\"\n\u001b[1;32m    316\u001b[0m         \u001b[0;32mtry\u001b[0m\u001b[0;34m:\u001b[0m\u001b[0;34m\u001b[0m\u001b[0;34m\u001b[0m\u001b[0m\n\u001b[0;32m--> 317\u001b[0;31m             \u001b[0mvalue\u001b[0m \u001b[0;34m=\u001b[0m \u001b[0mself\u001b[0m\u001b[0;34m.\u001b[0m\u001b[0m_parse\u001b[0m\u001b[0;34m(\u001b[0m\u001b[0;32mTrue\u001b[0m\u001b[0;34m)\u001b[0m\u001b[0;34m[\u001b[0m\u001b[0mkey\u001b[0m\u001b[0;34m]\u001b[0m\u001b[0;34m\u001b[0m\u001b[0;34m\u001b[0m\u001b[0m\n\u001b[0m\u001b[1;32m    318\u001b[0m             \u001b[0;32mif\u001b[0m \u001b[0;32mnot\u001b[0m \u001b[0misinstance\u001b[0m\u001b[0;34m(\u001b[0m\u001b[0mvalue\u001b[0m\u001b[0;34m,\u001b[0m \u001b[0mMapping\u001b[0m\u001b[0;34m)\u001b[0m\u001b[0;34m:\u001b[0m\u001b[0;34m\u001b[0m\u001b[0;34m\u001b[0m\u001b[0m\n\u001b[1;32m    319\u001b[0m                 \u001b[0;32mreturn\u001b[0m \u001b[0mvalue\u001b[0m\u001b[0;34m\u001b[0m\u001b[0;34m\u001b[0m\u001b[0m\n",
            "\u001b[0;32m/usr/local/lib/python3.10/dist-packages/streamlit/runtime/secrets.py\u001b[0m in \u001b[0;36m_parse\u001b[0;34m(self, print_exceptions)\u001b[0m\n\u001b[1;32m    219\u001b[0m                 \u001b[0;32mif\u001b[0m \u001b[0mprint_exceptions\u001b[0m\u001b[0;34m:\u001b[0m\u001b[0;34m\u001b[0m\u001b[0;34m\u001b[0m\u001b[0m\n\u001b[1;32m    220\u001b[0m                     \u001b[0mst\u001b[0m\u001b[0;34m.\u001b[0m\u001b[0merror\u001b[0m\u001b[0;34m(\u001b[0m\u001b[0merr_msg\u001b[0m\u001b[0;34m)\u001b[0m\u001b[0;34m\u001b[0m\u001b[0;34m\u001b[0m\u001b[0m\n\u001b[0;32m--> 221\u001b[0;31m                 \u001b[0;32mraise\u001b[0m \u001b[0mFileNotFoundError\u001b[0m\u001b[0;34m(\u001b[0m\u001b[0merr_msg\u001b[0m\u001b[0;34m)\u001b[0m\u001b[0;34m\u001b[0m\u001b[0;34m\u001b[0m\u001b[0m\n\u001b[0m\u001b[1;32m    222\u001b[0m \u001b[0;34m\u001b[0m\u001b[0m\n\u001b[1;32m    223\u001b[0m             \u001b[0;32mif\u001b[0m \u001b[0mlen\u001b[0m\u001b[0;34m(\u001b[0m\u001b[0;34m[\u001b[0m\u001b[0mp\u001b[0m \u001b[0;32mfor\u001b[0m \u001b[0mp\u001b[0m \u001b[0;32min\u001b[0m \u001b[0mself\u001b[0m\u001b[0;34m.\u001b[0m\u001b[0m_file_paths\u001b[0m \u001b[0;32mif\u001b[0m \u001b[0mos\u001b[0m\u001b[0;34m.\u001b[0m\u001b[0mpath\u001b[0m\u001b[0;34m.\u001b[0m\u001b[0mexists\u001b[0m\u001b[0;34m(\u001b[0m\u001b[0mp\u001b[0m\u001b[0;34m)\u001b[0m\u001b[0;34m]\u001b[0m\u001b[0;34m)\u001b[0m \u001b[0;34m>\u001b[0m \u001b[0;36m1\u001b[0m\u001b[0;34m:\u001b[0m\u001b[0;34m\u001b[0m\u001b[0;34m\u001b[0m\u001b[0m\n",
            "\u001b[0;31mFileNotFoundError\u001b[0m: No secrets files found. Valid paths for a secrets.toml file are: /root/.streamlit/secrets.toml, /content/.streamlit/secrets.toml"
          ]
        }
      ],
      "source": [
        "import streamlit as st\n",
        "import os\n",
        "from Senti import extract_video_id,analyze_sentiment,bar_chart,plot_sentiment\n",
        "from YoutubeCommentScrapper import save_video_comments_to_csv,get_channel_info,youtube,get_channel_id,get_video_stats"
      ]
    },
    {
      "cell_type": "markdown",
      "source": [
        "Package Download: NLTK berhasil mendownload paket vader_lexicon dan sudah dalam keadaan terbaru.\n",
        "Warning: Untuk melihat aplikasi Streamlit di browser, gunakan perintah streamlit run dengan jalur yang sesuai.\n",
        "Error: Terjadi FileNotFoundError karena file secrets.toml tidak ditemukan di jalur yang diharapkan (/root/.streamlit/secrets.toml atau /content/.streamlit/secrets.toml)."
      ],
      "metadata": {
        "id": "IYYqa_wyWsV5"
      },
      "id": "IYYqa_wyWsV5"
    },
    {
      "cell_type": "markdown",
      "source": [],
      "metadata": {
        "id": "ozlVgY-QWWDb"
      },
      "id": "ozlVgY-QWWDb"
    },
    {
      "cell_type": "code",
      "execution_count": 35,
      "id": "86cb35df",
      "metadata": {
        "id": "86cb35df"
      },
      "outputs": [],
      "source": [
        "def delete_non_matching_csv_files(directory_path, video_id):\n",
        "    for file_name in os.listdir(directory_path):\n",
        "        if not file_name.endswith('.csv'):\n",
        "            continue\n",
        "        if file_name == f'{video_id}.csv':\n",
        "            continue\n",
        "        os.remove(os.path.join(directory_path, file_name))"
      ]
    },
    {
      "cell_type": "markdown",
      "source": [
        "Fungsi delete_non_matching_csv_files tidak menampilkan output secara langsung, jadi tidak ada informasi yang ditampilkan di layar. Fungsi ini hanya melakukan operasi di file sistem tanpa memberikan feedback kepada pengguna."
      ],
      "metadata": {
        "id": "NaKm5H1oXaoD"
      },
      "id": "NaKm5H1oXaoD"
    },
    {
      "cell_type": "code",
      "execution_count": 33,
      "id": "992b4c9d",
      "metadata": {
        "lines_to_next_cell": 2,
        "id": "992b4c9d",
        "colab": {
          "base_uri": "https://localhost:8080/"
        },
        "outputId": "a56a94e6-875a-4eb8-d52d-fc67fb7a2843"
      },
      "outputs": [
        {
          "output_type": "stream",
          "name": "stderr",
          "text": [
            "2024-08-08 09:39:48.521 Session state does not function when running a script without `streamlit run`\n"
          ]
        },
        {
          "output_type": "execute_result",
          "data": {
            "text/plain": [
              "DeltaGenerator()"
            ]
          },
          "metadata": {},
          "execution_count": 33
        }
      ],
      "source": [
        "st.set_page_config(page_title='Jatin_Agrawal_20BCS6606', page_icon = 'LOGO.png', initial_sidebar_state = 'auto')\n",
        "#st.set_page_config(page_title=None, page_icon=None, layout=\"centered\", initial_sidebar_state=\"auto\", menu_items=None)\n",
        "st.sidebar.title(\"Sentimental Analsis\")\n",
        "st.sidebar.header(\"Enter YouTube Link\")\n",
        "youtube_link = st.sidebar.text_input(\"Link\")\n",
        "directory_path = os.getcwd()\n",
        "hide_st_style = \"\"\"\n",
        "            <style>\n",
        "            #MainMenu {visibility: hidden;}\n",
        "            footer {visibility: hidden;}\n",
        "            </style>\n",
        "            \"\"\"\n",
        "st.markdown(hide_st_style, unsafe_allow_html=True)"
      ]
    },
    {
      "cell_type": "markdown",
      "source": [
        "Pesan kesalahan ini menunjukkan bahwa sesi state di Streamlit tidak berfungsi saat menjalankan skrip langsung tanpa menggunakan perintah streamlit run. Sesi state di Streamlit bergantung pada kerangka kerja Streamlit untuk mengelola status dan interaksi aplikasi."
      ],
      "metadata": {
        "id": "uNz1p1f1X2qg"
      },
      "id": "uNz1p1f1X2qg"
    },
    {
      "cell_type": "code",
      "execution_count": 39,
      "id": "20797356",
      "metadata": {
        "id": "20797356"
      },
      "outputs": [],
      "source": [
        "if youtube_link:\n",
        "    video_id = extract_video_id(youtube_link)\n",
        "    channel_id = get_channel_id(video_id)\n",
        "    if video_id:\n",
        "        st.sidebar.write(\"The video ID is:\", video_id)\n",
        "        csv_file = save_video_comments_to_csv(video_id)\n",
        "        delete_non_matching_csv_files(directory_path,video_id)\n",
        "        st.sidebar.write(\"Comments saved to CSV!\")\n",
        "        st.sidebar.download_button(label=\"Download Comments\", data=open(csv_file, 'rb').read(), file_name=os.path.basename(csv_file), mime=\"text/csv\")\n",
        "\n",
        "        #using fn\n",
        "        channel_info = get_channel_info(youtube,channel_id)\n",
        "\n",
        "        col1, col2 = st.columns(2)\n",
        "\n",
        "        with col1:\n",
        "           channel_logo_url = channel_info['channel_logo_url']\n",
        "           st.image(channel_logo_url, width=250)\n",
        "\n",
        "        with col2:\n",
        "           channel_title = channel_info['channel_title']\n",
        "           st.title(' ')\n",
        "           st.text(\"  YouTube Channel Name  \")\n",
        "           #st.markdown('** YouTube Channel Name **')\n",
        "           st.title(channel_title)\n",
        "           st.title(\"  \")\n",
        "           st.title(\" \")\n",
        "           st.title(\" \")\n",
        "\n",
        "\n",
        "        #Using fn\n",
        "\n",
        "\n",
        "\n",
        "        st.title(\" \")\n",
        "        col3, col4 ,col5 = st.columns(3)\n",
        "\n",
        "\n",
        "        with col3:\n",
        "           video_count=channel_info['video_count']\n",
        "           st.header(\"  Total Videos  \")\n",
        "           #st.subheader(\"Total Videos\")\n",
        "           st.subheader(video_count)\n",
        "\n",
        "        with col4:\n",
        "           channel_created_date= channel_info['channel_created_date']\n",
        "           created_date = channel_created_date[:10]\n",
        "           st.header(\"Channel Created \")\n",
        "           st.subheader(created_date)\n",
        "\n",
        "        with col5:\n",
        "\n",
        "            st.header(\" Subscriber_Count \")\n",
        "            st.subheader(channel_info[\"subscriber_count\"])\n",
        "\n",
        "        st.title(\" \")\n",
        "\n",
        "        stats = get_video_stats(video_id)\n",
        "\n",
        "        st.title(\"Video Information :\")\n",
        "        col6, col7 ,col8 = st.columns(3)\n",
        "\n",
        "\n",
        "        with col6:\n",
        "            st.header(\"  Total Views  \")\n",
        "           #st.subheader(\"Total Videos\")\n",
        "            st.subheader(stats[\"viewCount\"])\n",
        "\n",
        "        with col7:\n",
        "           st.header(\" Like Count \")\n",
        "           st.subheader(stats[\"likeCount\"])\n",
        "\n",
        "\n",
        "        with col8:\n",
        "\n",
        "            st.header(\" Comment Count \")\n",
        "            st.subheader(stats[\"commentCount\"])\n",
        "\n",
        "        st.header(\" \")\n",
        "\n",
        "\n",
        "        _, container, _ = st.columns([10, 80, 10])\n",
        "        container.video(data=youtube_link)\n",
        "\n",
        "\n",
        "\n",
        "\n",
        "\n",
        "        results = analyze_sentiment(csv_file)\n",
        "\n",
        "\n",
        "        col9, col10 ,col11 = st.columns(3)\n",
        "\n",
        "\n",
        "        with col9:\n",
        "            st.header(\"  Positive Comments  \")\n",
        "           #st.subheader(\"Total Videos\")\n",
        "            st.subheader(results['num_positive'])\n",
        "\n",
        "        with col10:\n",
        "           st.header(\" Negative Comments \")\n",
        "           st.subheader( results['num_negative'])\n",
        "\n",
        "\n",
        "        with col11:\n",
        "\n",
        "            st.header(\" Neutral Comments \")\n",
        "            st.subheader(results['num_neutral'])\n",
        "\n",
        "\n",
        "        bar_chart(csv_file)\n",
        "\n",
        "        plot_sentiment(csv_file)\n",
        "\n",
        "\n",
        "        st.subheader(\"Channel Description \")\n",
        "        channel_description = channel_info['channel_description']\n",
        "        st.write(channel_description)\n",
        "\n",
        "    else:\n",
        "        st.error(\"Invalid YouTube link\")"
      ]
    },
    {
      "cell_type": "markdown",
      "source": [
        "Kode tidak menampilkan output karena tidak ada informasi yang ditampilkan di bagian `else` dari kondisi `if video_id:`. Jika `video_id` tidak valid, pesan \"Invalid YouTube link\" akan ditampilkan, yang mungkin menjadi alasan tidak ada output jika URL YouTube tidak benar.\n",
        "Pastikan bahwa `csv_file` benar-benar dihasilkan dan tersedia untuk operasi lebih lanjut. Jika ada kesalahan di dalam fungsi yang dipanggil, tidak akan ada output yang dihasilkan karena kesalahan tersebut tidak ditangani secara eksplisit dalam kode."
      ],
      "metadata": {
        "id": "EYG0wnXEYeDo"
      },
      "id": "EYG0wnXEYeDo"
    }
  ],
  "metadata": {
    "jupytext": {
      "cell_metadata_filter": "-all",
      "main_language": "python",
      "notebook_metadata_filter": "-all"
    },
    "colab": {
      "provenance": [],
      "include_colab_link": true
    },
    "language_info": {
      "name": "python"
    },
    "kernelspec": {
      "name": "python3",
      "display_name": "Python 3"
    }
  },
  "nbformat": 4,
  "nbformat_minor": 5
}